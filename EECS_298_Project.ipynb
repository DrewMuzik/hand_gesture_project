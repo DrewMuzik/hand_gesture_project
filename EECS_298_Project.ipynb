{
 "cells": [
  {
   "cell_type": "code",
   "execution_count": 49,
   "metadata": {
    "collapsed": false
   },
   "outputs": [],
   "source": [
    "import os\n",
    "import time\n",
    "import pandas as pa\n",
    "import numpy as np\n",
    "import matplotlib.pyplot as plt\n",
    "from sklearn import preprocessing\n",
    "from sklearn.preprocessing import StandardScaler\n",
    "from sklearn.cluster import KMeans\n",
    "from mpl_toolkits import mplot3d\n",
    "\n",
    "# debugging variable testing - set true to check run time's and debug statements\n",
    "debug = True\n",
    "\n",
    "# format print output \n",
    "pa.set_option('display.width', 1000)\n",
    "pa.set_option('max_rows', 250)"
   ]
  },
  {
   "cell_type": "markdown",
   "metadata": {
    "collapsed": true
   },
   "source": [
    "# Create Training and Test Sets\n",
    "\n",
    "36 patients with 8 sensors, each performs 2 trials - we use 1 for training & 1 for testing \n",
    "\n",
    "The dataset is open-sourced from UCI and can be found here,\n",
    "https://archive.ics.uci.edu/ml/machine-learning-databases/00481/"
   ]
  },
  {
   "cell_type": "code",
   "execution_count": 72,
   "metadata": {
    "collapsed": false
   },
   "outputs": [
    {
     "name": "stdout",
     "output_type": "stream",
     "text": [
      "\n",
      "Time to read data...2.06168794632\n",
      "Training samples... \n",
      "551135 total\n",
      "    time  channel1  channel2  channel3  channel4  channel5  channel6  channel7  channel8  class\n",
      "0      1   0.00001  -0.00002  -0.00001  -0.00003   0.00000  -0.00001   0.00000  -0.00001      0\n",
      "1      5   0.00001  -0.00002  -0.00001  -0.00003   0.00000  -0.00001   0.00000  -0.00001      0\n",
      "2      6  -0.00001   0.00001   0.00002   0.00000   0.00001  -0.00002  -0.00001   0.00001      0\n",
      "3      7  -0.00001   0.00001   0.00002   0.00000   0.00001  -0.00002  -0.00001   0.00001      0\n",
      "4      8  -0.00001   0.00001   0.00002   0.00000   0.00001  -0.00002  -0.00001   0.00001      0\n",
      "5      9  -0.00001   0.00001   0.00002   0.00000   0.00001  -0.00002  -0.00001   0.00001      0\n",
      "6     10  -0.00001   0.00001   0.00002   0.00000   0.00001  -0.00002  -0.00001   0.00001      0\n",
      "7     11  -0.00001   0.00001   0.00002   0.00000   0.00001  -0.00002  -0.00001   0.00001      0\n",
      "8     12  -0.00001   0.00001   0.00002   0.00000   0.00001  -0.00002  -0.00001   0.00001      0\n",
      "9     13  -0.00001   0.00001   0.00002   0.00000   0.00001  -0.00002  -0.00001   0.00001      0\n",
      "10    14  -0.00001   0.00001   0.00002   0.00000   0.00001  -0.00002  -0.00001   0.00001      0\n",
      "11    15  -0.00001   0.00001   0.00002   0.00000   0.00001  -0.00002  -0.00001   0.00001      0\n",
      "12    16  -0.00001   0.00001   0.00002   0.00000   0.00001  -0.00002  -0.00001   0.00001      0\n",
      "13    17  -0.00001   0.00001   0.00002   0.00000   0.00001  -0.00002  -0.00001   0.00001      0\n",
      "14    18  -0.00001  -0.00001  -0.00006  -0.00005  -0.00003  -0.00003  -0.00002  -0.00002      0\n",
      "15    19  -0.00001  -0.00001  -0.00006  -0.00005  -0.00003  -0.00003  -0.00002  -0.00002      0\n",
      "16    20  -0.00001  -0.00001  -0.00006  -0.00005  -0.00003  -0.00003  -0.00002  -0.00002      0\n",
      "17    21  -0.00001  -0.00001  -0.00006  -0.00005  -0.00003  -0.00003  -0.00002  -0.00002      0\n",
      "18    22  -0.00001  -0.00001  -0.00006  -0.00005  -0.00003  -0.00003  -0.00002  -0.00002      0\n",
      "19    23  -0.00001  -0.00001  -0.00006  -0.00005  -0.00003  -0.00003  -0.00002  -0.00002      0\n"
     ]
    }
   ],
   "source": [
    "\n",
    "# here is the path to the dataset - note, you'll need to change this path if running the notebook locally\n",
    "emg_path = \"/Users/andrewmuzik/Desktop/EECS_298/EMG_data_for_gestures-master/\"\n",
    "\n",
    "# get time to read in dataset\n",
    "if debug:\n",
    "    start_time = time.time()\n",
    "    \n",
    "# ignore the last folder in EMG - Readme\n",
    "first_trials = os.listdir(emg_path + \"01/\")\n",
    "train_df = pa.read_csv(emg_path + \"01/\" + first_trials[0], delimiter=r\"\\s+\")\n",
    "\n",
    "# read in rest of patients\n",
    "for patient in range(2, 10):\n",
    "    \n",
    "    # determine the patient number\n",
    "    if patient < 10:\n",
    "        patient = \"0\" + str(patient) + \"/\"\n",
    "    else:\n",
    "        patient = str(patient) + \"/\"\n",
    "        \n",
    "    # get dir's for each trial (train / test)\n",
    "    trials = os.listdir(emg_path + patient)\n",
    "    \n",
    "    # get patient trials\n",
    "    train_slice = pa.read_csv(emg_path + patient + trials[0], delimiter=r\"\\s+\")\n",
    "    \n",
    "    # join patient into dataset\n",
    "    train_df = pa.concat([train_df, train_slice], axis=0, join='inner', ignore_index=True)\n",
    "\n",
    "# drop last rows of training / test sets - grabage, NaN\n",
    "train_df = train_df.head(-1)    \n",
    "\n",
    "if debug:\n",
    "    end_time = time.time()\n",
    "    \n",
    "# get time and show examples\n",
    "if debug:\n",
    "    print(\"\\nTime to read data...\" + str(end_time - start_time))\n",
    "    print(\"Training samples... \\n\" + str(len(train_df)) + \" total\")\n",
    "    print(train_df[:20])"
   ]
  },
  {
   "cell_type": "markdown",
   "metadata": {},
   "source": [
    "# Clean Up DataSets \n",
    "\n",
    "    Standardize using Min Max\n",
    "    Trim all unmarked instances (patients could be moving, stretching, etc)\n"
   ]
  },
  {
   "cell_type": "code",
   "execution_count": 73,
   "metadata": {
    "collapsed": false
   },
   "outputs": [
    {
     "name": "stdout",
     "output_type": "stream",
     "text": [
      "        time  channel1  channel2  channel3  channel4  channel5  channel6  channel7  channel8  class\n",
      "0   0.000000  0.505882  0.494118  0.498039  0.490196  0.501961  0.498039  0.501961  0.498039      0\n",
      "1   0.000054  0.505882  0.494118  0.498039  0.490196  0.501961  0.498039  0.501961  0.498039      0\n",
      "2   0.000067  0.498039  0.505882  0.509804  0.501961  0.505882  0.494118  0.498039  0.505882      0\n",
      "3   0.000081  0.498039  0.505882  0.509804  0.501961  0.505882  0.494118  0.498039  0.505882      0\n",
      "4   0.000094  0.498039  0.505882  0.509804  0.501961  0.505882  0.494118  0.498039  0.505882      0\n",
      "5   0.000107  0.498039  0.505882  0.509804  0.501961  0.505882  0.494118  0.498039  0.505882      0\n",
      "6   0.000121  0.498039  0.505882  0.509804  0.501961  0.505882  0.494118  0.498039  0.505882      0\n",
      "7   0.000134  0.498039  0.505882  0.509804  0.501961  0.505882  0.494118  0.498039  0.505882      0\n",
      "8   0.000148  0.498039  0.505882  0.509804  0.501961  0.505882  0.494118  0.498039  0.505882      0\n",
      "9   0.000161  0.498039  0.505882  0.509804  0.501961  0.505882  0.494118  0.498039  0.505882      0\n",
      "10  0.000174  0.498039  0.505882  0.509804  0.501961  0.505882  0.494118  0.498039  0.505882      0\n",
      "11  0.000188  0.498039  0.505882  0.509804  0.501961  0.505882  0.494118  0.498039  0.505882      0\n",
      "12  0.000201  0.498039  0.505882  0.509804  0.501961  0.505882  0.494118  0.498039  0.505882      0\n",
      "13  0.000215  0.498039  0.505882  0.509804  0.501961  0.505882  0.494118  0.498039  0.505882      0\n",
      "14  0.000228  0.498039  0.498039  0.478431  0.482353  0.490196  0.490196  0.494118  0.494118      0\n",
      "15  0.000242  0.498039  0.498039  0.478431  0.482353  0.490196  0.490196  0.494118  0.494118      0\n",
      "16  0.000255  0.498039  0.498039  0.478431  0.482353  0.490196  0.490196  0.494118  0.494118      0\n",
      "17  0.000268  0.498039  0.498039  0.478431  0.482353  0.490196  0.490196  0.494118  0.494118      0\n",
      "18  0.000282  0.498039  0.498039  0.478431  0.482353  0.490196  0.490196  0.494118  0.494118      0\n",
      "19  0.000295  0.498039  0.498039  0.478431  0.482353  0.490196  0.490196  0.494118  0.494118      0\n"
     ]
    }
   ],
   "source": [
    "# normalize the data\n",
    "\n",
    "# must create scaler instance before using\n",
    "scaler = preprocessing.MinMaxScaler()\n",
    "\n",
    "train_df_norm = scaler.fit_transform(train_df)\n",
    "\n",
    "# cast back to dataframe\n",
    "train_df_norm = pa.DataFrame(train_df_norm, columns=train_df.columns)\n",
    "\n",
    "# replace normalized outputs with correct ones\n",
    "train_df_norm.iloc[:,9] = train_df.iloc[:,9]\n",
    "\n",
    "print(train_df_norm[:20])"
   ]
  },
  {
   "cell_type": "code",
   "execution_count": 74,
   "metadata": {
    "collapsed": false
   },
   "outputs": [
    {
     "name": "stdout",
     "output_type": "stream",
     "text": [
      "Cleaned Training samples... \n",
      "184911 total\n",
      "          time  channel1  channel2  channel3  channel4  channel5  channel6  channel7  channel8  class\n",
      "2287  0.032191  0.498039  0.501961  0.498039  0.501961  0.501961  0.498039  0.498039  0.505882      1\n",
      "2288  0.032204  0.498039  0.494118  0.501961  0.498039  0.498039  0.498039  0.490196  0.494118      1\n",
      "2289  0.032218  0.498039  0.494118  0.501961  0.498039  0.498039  0.498039  0.490196  0.494118      1\n",
      "2290  0.032231  0.498039  0.494118  0.501961  0.498039  0.498039  0.498039  0.490196  0.494118      1\n",
      "2291  0.032245  0.498039  0.494118  0.501961  0.498039  0.498039  0.498039  0.490196  0.494118      1\n",
      "2292  0.032258  0.498039  0.494118  0.501961  0.498039  0.498039  0.498039  0.490196  0.494118      1\n",
      "2293  0.032271  0.498039  0.494118  0.501961  0.498039  0.498039  0.498039  0.490196  0.494118      1\n",
      "2294  0.032285  0.498039  0.494118  0.501961  0.498039  0.498039  0.498039  0.490196  0.494118      1\n",
      "2295  0.032298  0.498039  0.494118  0.501961  0.498039  0.498039  0.498039  0.490196  0.494118      1\n",
      "2296  0.032312  0.498039  0.501961  0.505882  0.509804  0.505882  0.498039  0.505882  0.501961      1\n",
      "2297  0.032325  0.498039  0.501961  0.505882  0.509804  0.505882  0.498039  0.505882  0.501961      1\n",
      "2298  0.032339  0.498039  0.501961  0.505882  0.509804  0.505882  0.498039  0.505882  0.501961      1\n",
      "2299  0.032352  0.498039  0.501961  0.505882  0.509804  0.505882  0.498039  0.505882  0.501961      1\n",
      "2300  0.032365  0.498039  0.501961  0.505882  0.509804  0.505882  0.498039  0.505882  0.501961      1\n",
      "2301  0.032379  0.498039  0.501961  0.505882  0.509804  0.505882  0.498039  0.505882  0.501961      1\n",
      "2302  0.032392  0.498039  0.501961  0.505882  0.509804  0.505882  0.498039  0.505882  0.501961      1\n",
      "2303  0.032406  0.498039  0.501961  0.505882  0.509804  0.505882  0.498039  0.505882  0.501961      1\n",
      "2304  0.032419  0.498039  0.501961  0.505882  0.509804  0.505882  0.498039  0.505882  0.501961      1\n",
      "2305  0.032433  0.498039  0.501961  0.505882  0.509804  0.505882  0.498039  0.505882  0.501961      1\n",
      "2306  0.032446  0.498039  0.501961  0.505882  0.509804  0.505882  0.498039  0.505882  0.501961      1\n"
     ]
    }
   ],
   "source": [
    "# Cut the noise - (unmarked data)\n",
    "train_df_norm.drop(train_df_norm.loc[train_df_norm['class']==0].index, inplace=True)\n",
    "\n",
    "if debug:\n",
    "    print(\"Cleaned Training samples... \\n\" + str(len(train_df_norm)) + \" total\")\n",
    "    print(train_df_norm[:20])"
   ]
  },
  {
   "cell_type": "markdown",
   "metadata": {
    "collapsed": false
   },
   "source": [
    "# Run PCA to find principal components (if any)"
   ]
  },
  {
   "cell_type": "code",
   "execution_count": 6,
   "metadata": {
    "collapsed": false
   },
   "outputs": [],
   "source": [
    "class PCA:\n",
    "    def __init__(self, X, components):\n",
    "    # scale the input data - (x_i - mean) / std_dev\n",
    "        self.X = StandardScaler().fit_transform(X)\n",
    "        self.components = components\n",
    "        self.cov = None\n",
    "        self.e_vectors = None\n",
    "        self.e_values = None\n",
    "        self.W = None\n",
    "        \n",
    "    # define covariance matrix for feature set\n",
    "    def get_covar(self):\n",
    "        self.cov = np.cov(self.X.T)\n",
    "    \n",
    "    # get eigenvalues and eigenvectors from covariance matrix\n",
    "    # create sorted list of pairs (eigenvalue, eigenvector)\n",
    "    def get_eigen(self):\n",
    "        e_values, e_vectors = np.linalg.eig(self.cov)  \n",
    "        \n",
    "        # take real part of eigenvalues\n",
    "        r_values = []\n",
    "        for i in range(len(e_values)):\n",
    "            r_values.append(np.real(e_values[i]))\n",
    "        self.e_values = r_values\n",
    "        print(\"Eigenvalues:\\n\")     \n",
    "        for i in self.e_values:\n",
    "            print(i)\n",
    "        print(\"\\n\")\n",
    "        \n",
    "        # take real part of eigenvectors\n",
    "        r_vectors = []\n",
    "        for i in range(len(e_vectors)):\n",
    "             r_vectors.append(np.real(e_vectors[i]))\n",
    "        self.e_vectors = r_vectors\n",
    "        \n",
    "    # get variance scores of each eigenvector\n",
    "    def get_var(self):\n",
    "        # get total variance\n",
    "        total = 0\n",
    "        var = []\n",
    "        for i in self.e_values:\n",
    "            total += i\n",
    "        for i in self.e_values:\n",
    "            var.append(i / total * 100)\n",
    "\n",
    "    # define weight matrix \n",
    "    # size depends on components chosen \n",
    "    def init_weights(self):\n",
    "        w_matrix = []\n",
    "        for i in self.e_vectors:\n",
    "            w_vec = []\n",
    "            for j in range(self.components):\n",
    "                w_vec.append(i[j])\n",
    "         \n",
    "            w_matrix.append(w_vec)\n",
    "            \n",
    "        self.W = w_matrix\n",
    "            \n",
    "    # get principal components \n",
    "    # must get covariance then eigenvalues before initializing weights \n",
    "    def get_principals(self):\n",
    "        return self.X.dot(self.W)"
   ]
  },
  {
   "cell_type": "code",
   "execution_count": 7,
   "metadata": {
    "collapsed": false
   },
   "outputs": [
    {
     "name": "stdout",
     "output_type": "stream",
     "text": [
      "Eigenvalues:\n",
      "\n",
      "2.2429904381\n",
      "1.42939123984\n",
      "1.27674339613\n",
      "0.346952947907\n",
      "0.504205784885\n",
      "0.539518999154\n",
      "0.864283814391\n",
      "0.795956643878\n",
      "\n",
      "\n",
      "Time to run PCA: 0.202549934387\n"
     ]
    }
   ],
   "source": [
    "# get the covariance matrix of the data \n",
    "if debug:\n",
    "    pca_start = time.time()\n",
    "\n",
    "# create principal components class\n",
    "# only use signals - ignore time and expected output\n",
    "p_comps = PCA(train_df_norm.loc[:, \"channel1\":\"channel8\"], 3)\n",
    "\n",
    "# get covariance\n",
    "p_comps.get_covar()\n",
    "\n",
    "# get eigenvalues\n",
    "p_comps.get_eigen()\n",
    "\n",
    "# get variances\n",
    "p_comps.get_var()\n",
    "\n",
    "# initialize wieghts \n",
    "p_comps.init_weights()\n",
    "\n",
    "# reduced data \n",
    "reduced = pa.DataFrame(p_comps.get_principals())\n",
    "\n",
    "if debug:\n",
    "    pca_end = time.time()\n",
    "    print(\"Time to run PCA: \" + str(pca_end - pca_start))"
   ]
  },
  {
   "cell_type": "markdown",
   "metadata": {},
   "source": [
    "# Check Effectiveness of Reduced Data \n",
    " Using Prepackaged Model below for quick analysis"
   ]
  },
  {
   "cell_type": "code",
   "execution_count": 8,
   "metadata": {
    "collapsed": false
   },
   "outputs": [],
   "source": [
    "# first attempt - too much noise \n",
    "kmeans = KMeans(n_clusters=6,random_state=0, tol=1e-18, max_iter=1000)\n",
    "predict = kmeans.fit_predict(train_df_norm.loc[:, \"channel1\":\"channel8\"])\n",
    "\n",
    "# pca on reduced\n",
    "if 'class' in reduced:\n",
    "    reduced = reduced.drop(labels='class', axis=1)\n",
    "    model = KMeans(n_clusters=6, tol=1e-9, max_iter=100)\n",
    "    reduced_predict = model.fit_predict(reduced)\n",
    "else:\n",
    "    model = KMeans(n_clusters=6, tol=1e-9, max_iter=100)\n",
    "    reduced_predict = model.fit_predict(reduced)"
   ]
  },
  {
   "cell_type": "code",
   "execution_count": 81,
   "metadata": {
    "collapsed": false
   },
   "outputs": [
    {
     "name": "stdout",
     "output_type": "stream",
     "text": [
      "0: predicted - 0 and actual - 1\n",
      "0: Reduced predicted - 1 and actual - 1\n",
      "\n",
      "25000: predicted - 0 and actual - 2\n",
      "25000: Reduced predicted - 1 and actual - 2\n",
      "\n",
      "50000: predicted - 4 and actual - 5\n",
      "50000: Reduced predicted - 4 and actual - 5\n",
      "\n",
      "75000: predicted - 0 and actual - 2\n",
      "75000: Reduced predicted - 2 and actual - 2\n",
      "\n",
      "100000: predicted - 4 and actual - 4\n",
      "100000: Reduced predicted - 4 and actual - 4\n",
      "\n",
      "125000: predicted - 0 and actual - 1\n",
      "125000: Reduced predicted - 1 and actual - 1\n",
      "\n",
      "150000: predicted - 2 and actual - 2\n",
      "150000: Reduced predicted - 2 and actual - 2\n",
      "\n",
      "175000: predicted - 3 and actual - 6\n",
      "175000: Reduced predicted - 4 and actual - 6\n",
      "\n"
     ]
    }
   ],
   "source": [
    "actual = train_df_norm.loc[:, \"class\"].values.tolist()\n",
    "\n",
    "miss = 0\n",
    "reduced_miss = 0\n",
    "\n",
    "for i in range(len(predict)):\n",
    "    if debug and i % 25000 == 0:\n",
    "        print(str(i) + \": predicted - \" + str(int(predict[i])) + \" and actual - \" + str(int(actual[i])))\n",
    "        print(str(i) + \": Reduced predicted - \" + str(int(reduced_predict[i])) + \" and actual - \" + str(int(actual[i])))\n",
    "        print(\"\")\n",
    "        time.sleep(.1)\n",
    "        \n",
    "    if int(predict[i]) != int(actual[i]):\n",
    "        miss += 1\n",
    "    if int(reduced_predict[i] != int(actual[i])):\n",
    "        reduced_miss += 1"
   ]
  },
  {
   "cell_type": "code",
   "execution_count": 82,
   "metadata": {
    "collapsed": false
   },
   "outputs": [
    {
     "name": "stdout",
     "output_type": "stream",
     "text": [
      "normalized accuracy: 8.91023249023%\n",
      "reduced accuracy: 23.833087269%\n"
     ]
    }
   ],
   "source": [
    "print(\"normalized accuracy: \" + str(100.0 - (float(miss)/float(len(predict))) * 100.0) + \"%\")\n",
    "\n",
    "print(\"reduced accuracy: \" + str(100.0 - (float(reduced_miss)/float(len(predict))) * 100.0) + \"%\")"
   ]
  },
  {
   "cell_type": "code",
   "execution_count": 75,
   "metadata": {
    "collapsed": false
   },
   "outputs": [
    {
     "name": "stdout",
     "output_type": "stream",
     "text": [
      "Total samples...184911\n",
      "           0         1         2  class cluster\n",
      "0  -0.088400 -0.012920 -0.015139      1     NaN\n",
      "1   0.051992  0.053703  0.096411      1     NaN\n",
      "2   0.051992  0.053703  0.096411      1     NaN\n",
      "3   0.051992  0.053703  0.096411      1     NaN\n",
      "4   0.051992  0.053703  0.096411      1     NaN\n",
      "5   0.051992  0.053703  0.096411      1     NaN\n",
      "6   0.051992  0.053703  0.096411      1     NaN\n",
      "7   0.051992  0.053703  0.096411      1     NaN\n",
      "8   0.051992  0.053703  0.096411      1     NaN\n",
      "9  -0.208436  0.044321  0.039036      1     NaN\n",
      "10 -0.208436  0.044321  0.039036      1     NaN\n",
      "11 -0.208436  0.044321  0.039036      1     NaN\n",
      "12 -0.208436  0.044321  0.039036      1     NaN\n",
      "13 -0.208436  0.044321  0.039036      1     NaN\n",
      "14 -0.208436  0.044321  0.039036      1     NaN\n",
      "15 -0.208436  0.044321  0.039036      1     NaN\n",
      "16 -0.208436  0.044321  0.039036      1     NaN\n",
      "17 -0.208436  0.044321  0.039036      1     NaN\n",
      "18 -0.208436  0.044321  0.039036      1     NaN\n",
      "19 -0.208436  0.044321  0.039036      1     NaN\n"
     ]
    }
   ],
   "source": [
    "# append the expected output class and check reduced / cleaned dataset \n",
    "reduced['class'] = actual \n",
    "\n",
    "print(\"Total samples...\" + str(len(reduced)))\n",
    "print(reduced[:20])"
   ]
  },
  {
   "cell_type": "markdown",
   "metadata": {
    "collapsed": true
   },
   "source": [
    "# Using Custom K Means Library\n",
    "\n",
    " Semi-supervised, using expected output to initialize clusters from"
   ]
  },
  {
   "cell_type": "code",
   "execution_count": 66,
   "metadata": {
    "collapsed": false
   },
   "outputs": [],
   "source": [
    "# available input spaces - {3d}\n",
    "# set semi-supervised=true to initialize clusters with expected output \n",
    "\n",
    "\n",
    "class Kmeans:\n",
    "    \n",
    "    def __init__(self, hidden_units=1, semi=False, max_iter=100, tol=0.00001):\n",
    "        self.hidden_units = hidden_units\n",
    "        # create lists of points for each cluster\n",
    "        self.clusters = []\n",
    "        self.error = 0\n",
    "        self.semi_sup=semi\n",
    "        self.max_iter=max_iter\n",
    "        self.tolerance = tol\n",
    "    \n",
    "    def train(self, X):\n",
    "        \n",
    "        style = 0\n",
    "        \n",
    "        # append column to dataframe for cluster identifications (more efficient than keeping / searching list)\n",
    "        clusters = pa.DataFrame(index=np.arange(len(X)), columns=np.arange(1))\n",
    "       \n",
    "        X['cluster'] =  clusters\n",
    "        X = X.values.tolist()\n",
    "        \n",
    "        # choose initial clusters reandomly\n",
    "        if not self.semi_sup:\n",
    "            for i in range(self.hidden_units):\n",
    "                # input data structured as {[location], [expected_output], [cluster_number]}\n",
    "                random = X.sample()\n",
    "                r_point = random.iloc[:, 1:3]\n",
    "                print(r_point)\n",
    "                time.sleep(2)\n",
    "                cluster = Cluster(r_point)\n",
    "                self.clusters.append(cluster)\n",
    "\n",
    "        # expected outputs are numerical {1, ... ,6}\n",
    "        else:\n",
    "            expected = 1\n",
    "            X = pa.DataFrame(X)\n",
    "            for i in range(self.hidden_units):\n",
    "                group = X.loc[X[3] == int(expected)]\n",
    "                # pick random sample from expected class\n",
    "                sample = group.sample().values.tolist()\n",
    "                point = [sample[0][0], sample[0][1], sample[0][2]]\n",
    "                # create cluster from the random pick\n",
    "                cluster = Cluster(point)\n",
    "                self.clusters.append(cluster)\n",
    "                expected += 1\n",
    "\n",
    "        \n",
    "        converged = False\n",
    "        iteration = 0\n",
    "        while (not converged) and (iteration < self.max_iter):\n",
    "            if debug:\n",
    "                print(\"\\n1st cluster: \" + str(self.clusters[0].position))\n",
    "                print(\"2nd cluster: \" + str(self.clusters[1].position))\n",
    "                print(\"3rd cluster: \" + str(self.clusters[2].position))\n",
    "                print(\"4th cluster: \" + str(self.clusters[3].position))\n",
    "                print(\"5th cluster: \" + str(self.clusters[4].position))\n",
    "                print(\"6th cluster: \" + str(self.clusters[5].position))\n",
    "                time.sleep(.5)\n",
    "                          \n",
    "            # keep track of old cluster positions for convergence\n",
    "            old_positions = []\n",
    "            for i in range(self.hidden_units):\n",
    "                old_positions.append(self.clusters[i].position)\n",
    "            \n",
    "            # assign points to nearest clusters\n",
    "            # work with list for clustering\n",
    "            instance = 1\n",
    "            X = X.values.tolist()\n",
    "            for i in range(len(X)):  \n",
    "                distances = []\n",
    "                cluster_index = 0\n",
    "                # calculate distances to each cluster\n",
    "                for j in range(self.hidden_units):\n",
    "                    distances.append(np.sqrt( (self.clusters[j].position[0] - X[i][0])**2 +\n",
    "                                              (self.clusters[j].position[1] - X[i][1])**2 +\n",
    "                                              (self.clusters[j].position[2] - X[i][2])**2 ))\n",
    "                \n",
    "                # find smallest distance / cluster - show 5 from dataset if debugging\n",
    "                smallest = distances[0]\n",
    "                for j in range(self.hidden_units):\n",
    "                    if debug and instance % (len(X)/3) == 0:\n",
    "                        print((\"instance \" + str(instance) + \", distance \" + str(distances[j]) + \" to \" + str(j)))\n",
    "                    if distances[j] < smallest:\n",
    "                        smallest = distances[j]\n",
    "                        cluster_index = j\n",
    "                \n",
    "                # add to cluster\n",
    "                X[i][4] = cluster_index\n",
    "                # emtpy distances list\n",
    "                del distances[:]\n",
    "                instance += 1\n",
    "                if debug and instance % (len(X)/3) == 0:\n",
    "                    print(\"\\n\")\n",
    "            \n",
    "            X = pa.DataFrame(X)\n",
    "\n",
    "            # calculate new mean for cluster\n",
    "            for j in range(self.hidden_units):\n",
    "                sum_x = 0.0\n",
    "                sum_y = 0.0\n",
    "                sum_z = 0.0\n",
    "                cluster = X.loc[X[4] == int(j)]\n",
    "                cluster = cluster.values.tolist()\n",
    "\n",
    "                # sum up x / y / z\n",
    "                for k in cluster:\n",
    "                    sum_x += k[0]\n",
    "                    sum_y += k[1]\n",
    "                    sum_z += k[2]\n",
    "                \n",
    "                # update the cluster means\n",
    "                self.clusters[cluster_index].position = list(self.clusters[cluster_index].position)\n",
    "                self.clusters[cluster_index].position[0] = sum_x / float(len(cluster)) \n",
    "                self.clusters[cluster_index].position[1] = sum_y / float(len(cluster)) \n",
    "                self.clusters[cluster_index].position[2] = sum_z / float(len(cluster)) \n",
    "                self.clusters[cluster_index].position = tuple(self.clusters[cluster_index].position)\n",
    "            \n",
    "            # get changes in cluster positions\n",
    "            cluster_changes = []\n",
    "            for k in range(self.hidden_units):\n",
    "                cluster_changes.append(np.sqrt((self.clusters[k].position[0] - old_positions[k][0])**2 +\n",
    "                                                (self.clusters[k].position[1] - old_positions[k][1])**2 +\n",
    "                                                (self.clusters[k].position[2] - old_positions[k][2])**2 ))\n",
    "            \n",
    "            # check if changes are under tolerance\n",
    "            converged = True\n",
    "            print(\"\\nIteration: \" + str(iteration))           \n",
    "            for k in range(self.hidden_units):\n",
    "                print(\"Cluster #\" + str(k) + \" changed by \" + str(cluster_changes[k]))\n",
    "                if cluster_changes[k] > self.tolerance:\n",
    "                    converged = False\n",
    "                \n",
    "            iteration += 1                \n",
    "\n",
    "        # finished convergence\n",
    "        \n",
    "        # get sum of squared error after training\n",
    "        error = 0.0\n",
    "        # go through each cluster\n",
    "        for j in range(self.hidden_units):\n",
    "            # split data by assigned cluster\n",
    "            group = X.loc[X[3] == int(j+1)]\n",
    "            # go through each sample in the cluster and get distance to center\n",
    "            for k in group:\n",
    "                error += np.sqrt((self.clusters[j].position[0] - X[k][0])**2 +\n",
    "                                 (self.clusters[j].position[1] - X[k][1])**2 +\n",
    "                                 (self.clusters[j].position[2] - X[k][2])**2 )\n",
    "            \n",
    "        error = error / float(len(X))\n",
    "        print(\"\\n Error: \" + str(error))\n",
    "        self.error = error\n",
    "        self.show_plot(X)\n",
    "        return error\n",
    "    \n",
    "    \n",
    "    def predict(self, Y):\n",
    "        predicted = []\n",
    "        for i in range(len(Y)): \n",
    "            output = []\n",
    "            distances = []\n",
    "            cluster = 0\n",
    "            # calculate distances to each cluster\n",
    "            for j in range(self.hidden_units):\n",
    "                distances.append(np.sqrt((self.clusters[j].position[0] - Y[i][0])**2 +\n",
    "                                         (self.clusters[j].position[1] - Y[i][1])**2 +\n",
    "                                         (self.clusters[j].position[2] - Y[i][2])**2 ))\n",
    "\n",
    "            # find smallest distance and cluster\n",
    "            smallest = distances[0]\n",
    "            for j in range(self.hidden_units):\n",
    "                if distances[j] < smallest:\n",
    "                    smallest = distances[j]\n",
    "                    cluster = j\n",
    "\n",
    "            # create output vector to feed into LMS filter\n",
    "            for j in range(self.hidden_units):\n",
    "                if cluster == j:\n",
    "                    output.append(1)\n",
    "                else:\n",
    "                    output.append(0)\n",
    "                \n",
    "            predicted.append(output)    \n",
    "        return predicted\n",
    "    \n",
    "    \n",
    "    def show_plot(self, X):\n",
    "        colors = ['Greys', 'Purples', 'Blues', 'Greens', 'Oranges', 'Reds']\n",
    "        ax = plt.axes(projection='3d')\n",
    "        for i in range(self.hidden_units):\n",
    "            # split data by cluster\n",
    "            group = X.loc[X[3] == int(i+1)]\n",
    "            z_data = group.ix[:,2]\n",
    "            y_data = group.ix[:,1]\n",
    "            x_data = group.ix[:,0]\n",
    "            ax.scatter3D(x_data, y_data, z_data, c=z_data, cmap=colors[i])    \n",
    "        plt.show()\n",
    "                                \n",
    "        \n",
    "# here we fit the model over max_iter loops        \n",
    "def fit(model, X, max_iter):\n",
    "    best = model\n",
    "    error = best.train(X)\n",
    "    for i in range(max_iter - 1):\n",
    "        new = Kmeans(model.hidden_units, model.semi_sup, model.max_iter, model.tolerance)\n",
    "        new_error = new.train(X)\n",
    "        if new_error < error:\n",
    "            best = new\n",
    "            error = new_error\n",
    "    #fitted.show_plot()\n",
    "    print(\"Best error: \" + str(error))\n",
    "    return best\n",
    "    \n",
    "class Cluster:\n",
    "    # position is a vector \n",
    "    def __init__(self, position):\n",
    "        self.position = position\n",
    "        self.ID = 0"
   ]
  },
  {
   "cell_type": "code",
   "execution_count": 67,
   "metadata": {
    "collapsed": false
   },
   "outputs": [
    {
     "name": "stdout",
     "output_type": "stream",
     "text": [
      "\n",
      "Iteration: 0\n",
      "Cluster #0 changed by 0.0\n",
      "Cluster #1 changed by 0.0\n",
      "Cluster #2 changed by 0.0\n",
      "Cluster #3 changed by 4.24015591603\n",
      "Cluster #4 changed by 0.0\n",
      "Cluster #5 changed by 0.0\n",
      "\n",
      "Iteration: 1\n",
      "Cluster #0 changed by 4.27685142056\n",
      "Cluster #1 changed by 0.0\n",
      "Cluster #2 changed by 0.0\n",
      "Cluster #3 changed by 0.0\n",
      "Cluster #4 changed by 0.0\n",
      "Cluster #5 changed by 0.0\n",
      "\n",
      "Iteration: 2\n",
      "Cluster #0 changed by 0.0\n",
      "Cluster #1 changed by 3.19225900704\n",
      "Cluster #2 changed by 0.0\n",
      "Cluster #3 changed by 0.0\n",
      "Cluster #4 changed by 0.0\n",
      "Cluster #5 changed by 0.0\n",
      "\n",
      " Error: 0.000734368314378\n"
     ]
    },
    {
     "data": {
      "image/png": "[encoded data removed]",
      "text/plain": [
       "<matplotlib.figure.Figure at 0x11cfe0190>"
      ]
     },
     "metadata": {},
     "output_type": "display_data"
    },
    {
     "name": "stdout",
     "output_type": "stream",
     "text": [
      "\n",
      "Iteration: 0\n",
      "Cluster #0 changed by 0.0\n",
      "Cluster #1 changed by 0.0\n",
      "Cluster #2 changed by 0.0\n",
      "Cluster #3 changed by 0.0\n",
      "Cluster #4 changed by 1.93627171461\n",
      "Cluster #5 changed by 0.0\n",
      "\n",
      "Iteration: 1\n",
      "Cluster #0 changed by 0.0\n",
      "Cluster #1 changed by 0.0\n",
      "Cluster #2 changed by 0.0\n",
      "Cluster #3 changed by 1.15029850901\n",
      "Cluster #4 changed by 0.0\n",
      "Cluster #5 changed by 0.0\n",
      "\n",
      "Iteration: 2\n",
      "Cluster #0 changed by 0.0\n",
      "Cluster #1 changed by 0.0\n",
      "Cluster #2 changed by 0.0\n",
      "Cluster #3 changed by 0.571731715546\n",
      "Cluster #4 changed by 0.0\n",
      "Cluster #5 changed by 0.0\n",
      "\n",
      " Error: 0.000207492677691\n"
     ]
    },
    {
     "data": {
      "image/png": "[encoded data removed]",
      "text/plain": [
       "<matplotlib.figure.Figure at 0x13122d610>"
      ]
     },
     "metadata": {},
     "output_type": "display_data"
    },
    {
     "name": "stdout",
     "output_type": "stream",
     "text": [
      "Best error: 0.000207492677691\n"
     ]
    }
   ],
   "source": [
    "debug = False\n",
    "kmeans = Kmeans(6, True, max_iter=3, tol=.0005)\n",
    "\n",
    "#kmeans.train(reduced)\n",
    "model = fit(kmeans, reduced, 2)"
   ]
  },
  {
   "cell_type": "code",
   "execution_count": 68,
   "metadata": {
    "collapsed": true
   },
   "outputs": [],
   "source": [
    "my_predict = model.predict(reduced.values.tolist())"
   ]
  },
  {
   "cell_type": "markdown",
   "metadata": {},
   "source": [
    "# Custom Model Accuracy"
   ]
  },
  {
   "cell_type": "code",
   "execution_count": 69,
   "metadata": {
    "collapsed": false
   },
   "outputs": [],
   "source": [
    "# convert K means output to class numbers \n",
    "testing = []\n",
    "\n",
    "for i, row in enumerate(my_predict):\n",
    "    for j in range(len(row)):\n",
    "        if row[j] == 1:\n",
    "            testing.append(j+1)"
   ]
  },
  {
   "cell_type": "code",
   "execution_count": 77,
   "metadata": {
    "collapsed": false
   },
   "outputs": [
    {
     "name": "stdout",
     "output_type": "stream",
     "text": [
      "0: my predicted - 1 and actual - 1\n",
      "25000: my predicted - 1 and actual - 2\n",
      "50000: my predicted - 2 and actual - 5\n",
      "75000: my predicted - 2 and actual - 2\n",
      "100000: my predicted - 6 and actual - 4\n",
      "125000: my predicted - 1 and actual - 1\n",
      "150000: my predicted - 2 and actual - 2\n",
      "175000: my predicted - 3 and actual - 6\n"
     ]
    }
   ],
   "source": [
    "debug = True\n",
    "actual = train_df_norm.loc[:, \"class\"].values.tolist()\n",
    "predicted_miss = 0\n",
    "\n",
    "for i in range(len(my_predict)):\n",
    "    if debug and i % 25000 == 0:\n",
    "        print(str(i) + \": my predicted - \" + str(int(testing[i])) + \" and actual - \" + str(int(actual[i])))\n",
    "        time.sleep(.1)\n",
    "        \n",
    "    if int(testing[i] != int(actual[i])):\n",
    "        predicted_miss += 1\n",
    "        "
   ]
  },
  {
   "cell_type": "code",
   "execution_count": 71,
   "metadata": {
    "collapsed": false
   },
   "outputs": [
    {
     "name": "stdout",
     "output_type": "stream",
     "text": [
      "my accuracy: 27.2758245859%\n"
     ]
    }
   ],
   "source": [
    "print(\"my accuracy: \" + str(100 - (float(predicted_miss)/float(len(my_predict))) * 100.0) + \"%\")"
   ]
  }
 ],
 "metadata": {
  "kernelspec": {
   "display_name": "Python 2",
   "language": "python",
   "name": "python2"
  },
  "language_info": {
   "codemirror_mode": {
    "name": "ipython",
    "version": 2
   },
   "file_extension": ".py",
   "mimetype": "text/x-python",
   "name": "python",
   "nbconvert_exporter": "python",
   "pygments_lexer": "ipython2",
   "version": "2.7.13"
  }
 },
 "nbformat": 4,
 "nbformat_minor": 2
}
